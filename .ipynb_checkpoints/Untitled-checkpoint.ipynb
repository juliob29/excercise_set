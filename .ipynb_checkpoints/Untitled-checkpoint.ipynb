{
 "cells": [
  {
   "cell_type": "code",
   "execution_count": 40,
   "metadata": {},
   "outputs": [],
   "source": [
    "import time \n",
    "import simpleaudio as sa\n",
    "\n",
    "def play_ding():\n",
    "    wave_obj = sa.WaveObject.from_wave_file(\"ding.wav\")\n",
    "    play_obj = wave_obj.play()\n",
    "\n",
    "def set(speed_time, rest_time):\n",
    "    play_ding()\n",
    "    \n",
    "    print(speed_time, \" SECOND SET, STARTING NOW!\")\n",
    "    time.sleep(speed_time)\n",
    "    \n",
    "    play_ding()\n",
    "    \n",
    "    print(\"OK \", rest_time, \" SECOND REST STARTING NOW!\")\n",
    "    time.sleep(rest_time)\n",
    "    \n",
    "    \n",
    "    \n",
    "\n",
    "def speed(sets):\n",
    "    print(\"WELCOME! This will do the normal speed workout from practice. This will be done\", sets, \"time(s)!\")\n",
    "    __ = input(\"To start, press any key!\")\n",
    "    \n",
    "    for _ in range(sets):\n",
    "        print(\"NEW SET, STARTING NOW!\")\n",
    "        #speed, then rest\n",
    "        speed_time = 15\n",
    "        rest_time = 15\n",
    "        \n",
    "        # Increasing section\n",
    "        for i in range(5):\n",
    "            set(speed_time, rest_time) #15, 30, 45, 60, 75\n",
    "            \n",
    "            # Do not increase if on last round. \n",
    "            if i != 5:\n",
    "                speed_time += 15\n",
    "                rest_time += 15\n",
    "        \n",
    "        # Decreasing section\n",
    "        for j in range(4):\n",
    "\n",
    "            # Here, we decrease first so that we don't have to do 90 again. \n",
    "            speed_time -= 15\n",
    "            rest_time -= 15\n",
    "            set(speed_time, rest_time) #60, 45, 30, 15\n",
    "            \n",
    "def main():\n",
    "    sets = \"\"\n",
    "    while (not sets.isdigit()):\n",
    "        sets = input(\"How many sets would you like to run this program with? (insert number) \")\n",
    "    speed(int(sets))\n",
    "        \n",
    "if __name__ == \"__main__\":\n",
    "    main()\n",
    "        \n",
    "        "
   ]
  },
  {
   "cell_type": "code",
   "execution_count": 46,
   "metadata": {},
   "outputs": [],
   "source": [
    "import simpleaudio as sa"
   ]
  },
  {
   "cell_type": "code",
   "execution_count": 51,
   "metadata": {},
   "outputs": [
    {
     "name": "stdout",
     "output_type": "stream",
     "text": [
      "Does it wait?\n"
     ]
    }
   ],
   "source": [
    "filename = 'myfile.wav'\n",
    "wave_obj = sa.WaveObject.from_wave_file(\"ding.wav\")\n",
    "play_obj = wave_obj.play()\n",
    "print(\"Does it wait?\")"
   ]
  },
  {
   "cell_type": "code",
   "execution_count": null,
   "metadata": {},
   "outputs": [],
   "source": []
  }
 ],
 "metadata": {
  "kernelspec": {
   "display_name": "Python 3",
   "language": "python",
   "name": "python3"
  },
  "language_info": {
   "codemirror_mode": {
    "name": "ipython",
    "version": 3
   },
   "file_extension": ".py",
   "mimetype": "text/x-python",
   "name": "python",
   "nbconvert_exporter": "python",
   "pygments_lexer": "ipython3",
   "version": "3.7.1"
  }
 },
 "nbformat": 4,
 "nbformat_minor": 2
}
